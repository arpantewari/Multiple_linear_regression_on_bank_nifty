{
 "cells": [
  {
   "cell_type": "code",
   "execution_count": 1,
   "metadata": {},
   "outputs": [],
   "source": [
    "import pandas as pd\n",
    "import numpy as np\n",
    "import numpy as np\n",
    "import pandas as pd\n",
    "from sklearn.model_selection import train_test_split\n"
   ]
  },
  {
   "cell_type": "code",
   "execution_count": 2,
   "metadata": {},
   "outputs": [],
   "source": [
    "\n",
    "HDB_df=pd.read_csv(\"HDB.csv\")\n",
    "IBN_df=pd.read_csv(\"IBN.csv\")\n",
    "Kotak_df=pd.read_csv(\"KOTAKBANK.csv\")\n",
    "SBI_df=pd.read_csv(\"SBIN.csv\")\n",
    "BN_df=pd.read_csv(\"NSEBANK.csv\")\n",
    "\n",
    "df=pd.DataFrame(['Date','BANKNIFTY','HDB',\"IBN\",'Kotak','SBI'])\n",
    "\n",
    "df['Date']=BN_df['Date']\n",
    "bank_nifty_list=BN_df['Close']\n",
    "hdf=HDB_df['Close']\n",
    "ibn=IBN_df['Close']\n",
    "kotak=Kotak_df['Close']\n",
    "sbi=SBI_df['Close']"
   ]
  },
  {
   "cell_type": "code",
   "execution_count": 3,
   "metadata": {},
   "outputs": [],
   "source": [
    "df.to_csv(\"hh.csv\")"
   ]
  },
  {
   "cell_type": "code",
   "execution_count": 4,
   "metadata": {},
   "outputs": [
    {
     "data": {
      "text/plain": [
       "pandas.core.series.Series"
      ]
     },
     "execution_count": 4,
     "metadata": {},
     "output_type": "execute_result"
    }
   ],
   "source": [
    "type(bank_nifty_list)"
   ]
  },
  {
   "cell_type": "code",
   "execution_count": 5,
   "metadata": {},
   "outputs": [
    {
     "name": "stdout",
     "output_type": "stream",
     "text": [
      "           HDB        IBN        Kotak         SBI\n",
      "0    70.000000  14.440000  1994.050049  279.399994\n",
      "1    71.540001  14.800000  1965.550049  281.049988\n",
      "2    70.779999  15.160000  1959.750000  281.750000\n",
      "3    71.959999  14.890000  1970.400024  285.049988\n",
      "4    72.910004  14.980000  1952.400024  287.700012\n",
      "..         ...        ...          ...         ...\n",
      "137  70.269997  17.520000  1722.949951  428.899994\n",
      "138  69.589996  17.600000  1740.599976  423.299988\n",
      "139  69.860001  18.290001  1697.949951  429.950012\n",
      "140  70.370003  18.360001  1652.849976  425.500000\n",
      "141  69.779999  18.170000  1641.650024  441.549988\n",
      "\n",
      "[142 rows x 4 columns]\n"
     ]
    }
   ],
   "source": [
    "\n",
    "X = pd.DataFrame(np.c_[hdf[:142], ibn[:142],kotak[:142],sbi[:142]], columns=['HDB','IBN','Kotak','SBI'])\n",
    "Y = bank_nifty_list[:142]\n",
    "print(X)\n",
    "X_train, X_test, y_train, y_test = train_test_split(X, Y, test_size = 0.2, random_state=9)\n"
   ]
  },
  {
   "cell_type": "code",
   "execution_count": 6,
   "metadata": {},
   "outputs": [
    {
     "data": {
      "text/plain": [
       "(142,)"
      ]
     },
     "execution_count": 6,
     "metadata": {},
     "output_type": "execute_result"
    }
   ],
   "source": [
    "Y.shape"
   ]
  },
  {
   "cell_type": "code",
   "execution_count": 7,
   "metadata": {},
   "outputs": [
    {
     "data": {
      "text/plain": [
       "(142, 4)"
      ]
     },
     "execution_count": 7,
     "metadata": {},
     "output_type": "execute_result"
    }
   ],
   "source": [
    "X.shape"
   ]
  },
  {
   "cell_type": "code",
   "execution_count": 8,
   "metadata": {},
   "outputs": [
    {
     "data": {
      "text/plain": [
       "LinearRegression()"
      ]
     },
     "execution_count": 8,
     "metadata": {},
     "output_type": "execute_result"
    }
   ],
   "source": [
    "from sklearn.linear_model import LinearRegression\n",
    "regressor = LinearRegression()\n",
    "regressor.fit(X_train,y_train)\n"
   ]
  },
  {
   "cell_type": "code",
   "execution_count": 9,
   "metadata": {},
   "outputs": [
    {
     "data": {
      "text/plain": [
       "LinearRegression()"
      ]
     },
     "execution_count": 9,
     "metadata": {},
     "output_type": "execute_result"
    }
   ],
   "source": [
    "regressor"
   ]
  },
  {
   "cell_type": "code",
   "execution_count": 10,
   "metadata": {},
   "outputs": [],
   "source": [
    "y_pred = regressor.predict(X_test)"
   ]
  },
  {
   "cell_type": "code",
   "execution_count": 11,
   "metadata": {},
   "outputs": [
    {
     "data": {
      "text/plain": [
       "array([33844.28485368, 34713.26314769, 36040.39579391, 35492.81562897,\n",
       "       33521.64155456, 33233.76368279, 32057.51084173, 32800.85950898,\n",
       "       35966.52189421, 33697.78350609, 31366.66715239, 35441.67134653,\n",
       "       35435.62569606, 35057.1119906 , 30933.18870204, 32347.78930504,\n",
       "       32979.10875428, 31866.5563105 , 36440.15685675, 33893.20545472,\n",
       "       31992.99704565, 34778.36384172, 32128.81993965, 36155.74099803,\n",
       "       34857.07795993, 35489.71360212, 36398.86601574, 34599.60668826,\n",
       "       33421.08100572])"
      ]
     },
     "execution_count": 11,
     "metadata": {},
     "output_type": "execute_result"
    }
   ],
   "source": [
    "y_pred"
   ]
  },
  {
   "cell_type": "code",
   "execution_count": 12,
   "metadata": {},
   "outputs": [
    {
     "data": {
      "text/plain": [
       "53     33603.449219\n",
       "118    35359.449219\n",
       "35     35116.949219\n",
       "109    35247.750000\n",
       "85     32872.199219\n",
       "90     33685.199219\n",
       "76     33722.800781\n",
       "83     32904.500000\n",
       "26     35783.101562\n",
       "20     34267.898438\n",
       "73     31722.300781\n",
       "97     35141.449219\n",
       "47     35496.648438\n",
       "96     35095.050781\n",
       "17     30358.300781\n",
       "8      32519.750000\n",
       "89     33922.398438\n",
       "69     31977.449219\n",
       "31     36910.949219\n",
       "51     33856.800781\n",
       "3      31956.000000\n",
       "39     35296.000000\n",
       "10     31811.750000\n",
       "25     36056.500000\n",
       "114    34745.000000\n",
       "108    34950.601562\n",
       "28     36108.898438\n",
       "115    34574.000000\n",
       "79     32465.750000\n",
       "Name: Close, dtype: float64"
      ]
     },
     "execution_count": 12,
     "metadata": {},
     "output_type": "execute_result"
    }
   ],
   "source": [
    "y_test"
   ]
  },
  {
   "cell_type": "code",
   "execution_count": 40,
   "metadata": {},
   "outputs": [
    {
     "name": "stdout",
     "output_type": "stream",
     "text": [
      "0.8814472642870081\n"
     ]
    }
   ],
   "source": [
    "from sklearn.metrics import r2_score\n",
    "score=r2_score(y_test,y_pred)\n",
    "print(score)"
   ]
  },
  {
   "cell_type": "code",
   "execution_count": 13,
   "metadata": {},
   "outputs": [
    {
     "data": {
      "text/html": [
       "<div>\n",
       "<style scoped>\n",
       "    .dataframe tbody tr th:only-of-type {\n",
       "        vertical-align: middle;\n",
       "    }\n",
       "\n",
       "    .dataframe tbody tr th {\n",
       "        vertical-align: top;\n",
       "    }\n",
       "\n",
       "    .dataframe thead th {\n",
       "        text-align: right;\n",
       "    }\n",
       "</style>\n",
       "<table border=\"1\" class=\"dataframe\">\n",
       "  <thead>\n",
       "    <tr style=\"text-align: right;\">\n",
       "      <th></th>\n",
       "      <th>Actual value</th>\n",
       "      <th>Predicited value</th>\n",
       "      <th>difference</th>\n",
       "    </tr>\n",
       "  </thead>\n",
       "  <tbody>\n",
       "    <tr>\n",
       "      <th>53</th>\n",
       "      <td>33603.449219</td>\n",
       "      <td>33844.284854</td>\n",
       "      <td>-240.835635</td>\n",
       "    </tr>\n",
       "    <tr>\n",
       "      <th>118</th>\n",
       "      <td>35359.449219</td>\n",
       "      <td>34713.263148</td>\n",
       "      <td>646.186071</td>\n",
       "    </tr>\n",
       "    <tr>\n",
       "      <th>35</th>\n",
       "      <td>35116.949219</td>\n",
       "      <td>36040.395794</td>\n",
       "      <td>-923.446575</td>\n",
       "    </tr>\n",
       "    <tr>\n",
       "      <th>109</th>\n",
       "      <td>35247.750000</td>\n",
       "      <td>35492.815629</td>\n",
       "      <td>-245.065629</td>\n",
       "    </tr>\n",
       "    <tr>\n",
       "      <th>85</th>\n",
       "      <td>32872.199219</td>\n",
       "      <td>33521.641555</td>\n",
       "      <td>-649.442336</td>\n",
       "    </tr>\n",
       "    <tr>\n",
       "      <th>90</th>\n",
       "      <td>33685.199219</td>\n",
       "      <td>33233.763683</td>\n",
       "      <td>451.435536</td>\n",
       "    </tr>\n",
       "    <tr>\n",
       "      <th>76</th>\n",
       "      <td>33722.800781</td>\n",
       "      <td>32057.510842</td>\n",
       "      <td>1665.289940</td>\n",
       "    </tr>\n",
       "    <tr>\n",
       "      <th>83</th>\n",
       "      <td>32904.500000</td>\n",
       "      <td>32800.859509</td>\n",
       "      <td>103.640491</td>\n",
       "    </tr>\n",
       "    <tr>\n",
       "      <th>26</th>\n",
       "      <td>35783.101562</td>\n",
       "      <td>35966.521894</td>\n",
       "      <td>-183.420332</td>\n",
       "    </tr>\n",
       "    <tr>\n",
       "      <th>20</th>\n",
       "      <td>34267.898438</td>\n",
       "      <td>33697.783506</td>\n",
       "      <td>570.114931</td>\n",
       "    </tr>\n",
       "    <tr>\n",
       "      <th>73</th>\n",
       "      <td>31722.300781</td>\n",
       "      <td>31366.667152</td>\n",
       "      <td>355.633629</td>\n",
       "    </tr>\n",
       "    <tr>\n",
       "      <th>97</th>\n",
       "      <td>35141.449219</td>\n",
       "      <td>35441.671347</td>\n",
       "      <td>-300.222128</td>\n",
       "    </tr>\n",
       "    <tr>\n",
       "      <th>47</th>\n",
       "      <td>35496.648438</td>\n",
       "      <td>35435.625696</td>\n",
       "      <td>61.022741</td>\n",
       "    </tr>\n",
       "    <tr>\n",
       "      <th>96</th>\n",
       "      <td>35095.050781</td>\n",
       "      <td>35057.111991</td>\n",
       "      <td>37.938791</td>\n",
       "    </tr>\n",
       "    <tr>\n",
       "      <th>17</th>\n",
       "      <td>30358.300781</td>\n",
       "      <td>30933.188702</td>\n",
       "      <td>-574.887921</td>\n",
       "    </tr>\n",
       "    <tr>\n",
       "      <th>8</th>\n",
       "      <td>32519.750000</td>\n",
       "      <td>32347.789305</td>\n",
       "      <td>171.960695</td>\n",
       "    </tr>\n",
       "    <tr>\n",
       "      <th>89</th>\n",
       "      <td>33922.398438</td>\n",
       "      <td>32979.108754</td>\n",
       "      <td>943.289683</td>\n",
       "    </tr>\n",
       "    <tr>\n",
       "      <th>69</th>\n",
       "      <td>31977.449219</td>\n",
       "      <td>31866.556311</td>\n",
       "      <td>110.892908</td>\n",
       "    </tr>\n",
       "    <tr>\n",
       "      <th>31</th>\n",
       "      <td>36910.949219</td>\n",
       "      <td>36440.156857</td>\n",
       "      <td>470.792362</td>\n",
       "    </tr>\n",
       "    <tr>\n",
       "      <th>51</th>\n",
       "      <td>33856.800781</td>\n",
       "      <td>33893.205455</td>\n",
       "      <td>-36.404673</td>\n",
       "    </tr>\n",
       "  </tbody>\n",
       "</table>\n",
       "</div>"
      ],
      "text/plain": [
       "     Actual value  Predicited value   difference\n",
       "53   33603.449219      33844.284854  -240.835635\n",
       "118  35359.449219      34713.263148   646.186071\n",
       "35   35116.949219      36040.395794  -923.446575\n",
       "109  35247.750000      35492.815629  -245.065629\n",
       "85   32872.199219      33521.641555  -649.442336\n",
       "90   33685.199219      33233.763683   451.435536\n",
       "76   33722.800781      32057.510842  1665.289940\n",
       "83   32904.500000      32800.859509   103.640491\n",
       "26   35783.101562      35966.521894  -183.420332\n",
       "20   34267.898438      33697.783506   570.114931\n",
       "73   31722.300781      31366.667152   355.633629\n",
       "97   35141.449219      35441.671347  -300.222128\n",
       "47   35496.648438      35435.625696    61.022741\n",
       "96   35095.050781      35057.111991    37.938791\n",
       "17   30358.300781      30933.188702  -574.887921\n",
       "8    32519.750000      32347.789305   171.960695\n",
       "89   33922.398438      32979.108754   943.289683\n",
       "69   31977.449219      31866.556311   110.892908\n",
       "31   36910.949219      36440.156857   470.792362\n",
       "51   33856.800781      33893.205455   -36.404673"
      ]
     },
     "execution_count": 13,
     "metadata": {},
     "output_type": "execute_result"
    }
   ],
   "source": [
    "y_pred_df=pd.DataFrame({'Actual value':y_test,'Predicited value':y_pred,'difference':y_test-y_pred})\n",
    "y_pred_df[0:20]"
   ]
  },
  {
   "cell_type": "code",
   "execution_count": 17,
   "metadata": {},
   "outputs": [
    {
     "data": {
      "text/plain": [
       "[<matplotlib.lines.Line2D at 0x1fcb15c2430>]"
      ]
     },
     "execution_count": 17,
     "metadata": {},
     "output_type": "execute_result"
    },
    {
     "data": {
      "image/png": "[encoded data removed]",
      "text/plain": [
       "<Figure size 432x288 with 1 Axes>"
      ]
     },
     "metadata": {
      "needs_background": "light"
     },
     "output_type": "display_data"
    }
   ],
   "source": [
    "# Visualising the results\n",
    "plt.plot(y_test,y_pred,'.')\n",
    "x = np.linspace(min(y_test),max(y_test))\n",
    "z = x\n",
    "plt.plot(x, z)"
   ]
  },
  {
   "cell_type": "code",
   "execution_count": 28,
   "metadata": {},
   "outputs": [
    {
     "data": {
      "text/html": [
       "<table class=\"simpletable\">\n",
       "<caption>OLS Regression Results</caption>\n",
       "<tr>\n",
       "  <th>Dep. Variable:</th>          <td>Close</td>      <th>  R-squared:         </th> <td>   0.000</td>\n",
       "</tr>\n",
       "<tr>\n",
       "  <th>Model:</th>                   <td>OLS</td>       <th>  Adj. R-squared:    </th> <td>   0.000</td>\n",
       "</tr>\n",
       "<tr>\n",
       "  <th>Method:</th>             <td>Least Squares</td>  <th>  F-statistic:       </th> <td>     nan</td>\n",
       "</tr>\n",
       "<tr>\n",
       "  <th>Date:</th>             <td>Thu, 19 Aug 2021</td> <th>  Prob (F-statistic):</th>  <td>   nan</td> \n",
       "</tr>\n",
       "<tr>\n",
       "  <th>Time:</th>                 <td>11:18:02</td>     <th>  Log-Likelihood:    </th> <td> -1248.7</td>\n",
       "</tr>\n",
       "<tr>\n",
       "  <th>No. Observations:</th>      <td>   142</td>      <th>  AIC:               </th> <td>   2499.</td>\n",
       "</tr>\n",
       "<tr>\n",
       "  <th>Df Residuals:</th>          <td>   141</td>      <th>  BIC:               </th> <td>   2502.</td>\n",
       "</tr>\n",
       "<tr>\n",
       "  <th>Df Model:</th>              <td>     0</td>      <th>                     </th>     <td> </td>   \n",
       "</tr>\n",
       "<tr>\n",
       "  <th>Covariance Type:</th>      <td>nonrobust</td>    <th>                     </th>     <td> </td>   \n",
       "</tr>\n",
       "</table>\n",
       "<table class=\"simpletable\">\n",
       "<tr>\n",
       "    <td></td>       <th>coef</th>     <th>std err</th>      <th>t</th>      <th>P>|t|</th>  <th>[0.025</th>    <th>0.975]</th>  \n",
       "</tr>\n",
       "<tr>\n",
       "  <th>const</th> <td> 8523.8708</td> <td>   33.587</td> <td>  253.783</td> <td> 0.000</td> <td> 8457.471</td> <td> 8590.271</td>\n",
       "</tr>\n",
       "<tr>\n",
       "  <th>x1</th>    <td> 8523.8708</td> <td>   33.587</td> <td>  253.783</td> <td> 0.000</td> <td> 8457.471</td> <td> 8590.271</td>\n",
       "</tr>\n",
       "<tr>\n",
       "  <th>x2</th>    <td> 8523.8708</td> <td>   33.587</td> <td>  253.783</td> <td> 0.000</td> <td> 8457.471</td> <td> 8590.271</td>\n",
       "</tr>\n",
       "<tr>\n",
       "  <th>x3</th>    <td> 8523.8708</td> <td>   33.587</td> <td>  253.783</td> <td> 0.000</td> <td> 8457.471</td> <td> 8590.271</td>\n",
       "</tr>\n",
       "</table>\n",
       "<table class=\"simpletable\">\n",
       "<tr>\n",
       "  <th>Omnibus:</th>       <td>12.075</td> <th>  Durbin-Watson:     </th> <td>   0.119</td>\n",
       "</tr>\n",
       "<tr>\n",
       "  <th>Prob(Omnibus):</th> <td> 0.002</td> <th>  Jarque-Bera (JB):  </th> <td>   7.832</td>\n",
       "</tr>\n",
       "<tr>\n",
       "  <th>Skew:</th>          <td>-0.432</td> <th>  Prob(JB):          </th> <td>  0.0199</td>\n",
       "</tr>\n",
       "<tr>\n",
       "  <th>Kurtosis:</th>      <td> 2.240</td> <th>  Cond. No.          </th> <td>1.24e+49</td>\n",
       "</tr>\n",
       "</table><br/><br/>Notes:<br/>[1] Standard Errors assume that the covariance matrix of the errors is correctly specified.<br/>[2] The smallest eigenvalue is 3.71e-96. This might indicate that there are<br/>strong multicollinearity problems or that the design matrix is singular."
      ],
      "text/plain": [
       "<class 'statsmodels.iolib.summary.Summary'>\n",
       "\"\"\"\n",
       "                            OLS Regression Results                            \n",
       "==============================================================================\n",
       "Dep. Variable:                  Close   R-squared:                       0.000\n",
       "Model:                            OLS   Adj. R-squared:                  0.000\n",
       "Method:                 Least Squares   F-statistic:                       nan\n",
       "Date:                Thu, 19 Aug 2021   Prob (F-statistic):                nan\n",
       "Time:                        11:18:02   Log-Likelihood:                -1248.7\n",
       "No. Observations:                 142   AIC:                             2499.\n",
       "Df Residuals:                     141   BIC:                             2502.\n",
       "Df Model:                           0                                         \n",
       "Covariance Type:            nonrobust                                         \n",
       "==============================================================================\n",
       "                 coef    std err          t      P>|t|      [0.025      0.975]\n",
       "------------------------------------------------------------------------------\n",
       "const       8523.8708     33.587    253.783      0.000    8457.471    8590.271\n",
       "x1          8523.8708     33.587    253.783      0.000    8457.471    8590.271\n",
       "x2          8523.8708     33.587    253.783      0.000    8457.471    8590.271\n",
       "x3          8523.8708     33.587    253.783      0.000    8457.471    8590.271\n",
       "==============================================================================\n",
       "Omnibus:                       12.075   Durbin-Watson:                   0.119\n",
       "Prob(Omnibus):                  0.002   Jarque-Bera (JB):                7.832\n",
       "Skew:                          -0.432   Prob(JB):                       0.0199\n",
       "Kurtosis:                       2.240   Cond. No.                     1.24e+49\n",
       "==============================================================================\n",
       "\n",
       "Notes:\n",
       "[1] Standard Errors assume that the covariance matrix of the errors is correctly specified.\n",
       "[2] The smallest eigenvalue is 3.71e-96. This might indicate that there are\n",
       "strong multicollinearity problems or that the design matrix is singular.\n",
       "\"\"\""
      ]
     },
     "execution_count": 28,
     "metadata": {},
     "output_type": "execute_result"
    }
   ],
   "source": [
    "\n",
    "import statsmodels.api as sm\n",
    "X = np.append(arr = np.ones((142, 1)).astype(int), values = X, axis = 1)\n",
    "\n",
    "X_Optimal = X[:, [0,1,2,3]]\n",
    "regressor_OLS = sm.OLS(endog = Y, exog = X_Optimal).fit()\n",
    "regressor_OLS.summary()"
   ]
  },
  {
   "cell_type": "code",
   "execution_count": 29,
   "metadata": {},
   "outputs": [
    {
     "data": {
      "text/html": [
       "<table class=\"simpletable\">\n",
       "<caption>OLS Regression Results</caption>\n",
       "<tr>\n",
       "  <th>Dep. Variable:</th>          <td>Close</td>      <th>  R-squared:         </th> <td>   0.332</td>\n",
       "</tr>\n",
       "<tr>\n",
       "  <th>Model:</th>                   <td>OLS</td>       <th>  Adj. R-squared:    </th> <td>   0.327</td>\n",
       "</tr>\n",
       "<tr>\n",
       "  <th>Method:</th>             <td>Least Squares</td>  <th>  F-statistic:       </th> <td>   69.55</td>\n",
       "</tr>\n",
       "<tr>\n",
       "  <th>Date:</th>             <td>Thu, 19 Aug 2021</td> <th>  Prob (F-statistic):</th> <td>6.32e-14</td>\n",
       "</tr>\n",
       "<tr>\n",
       "  <th>Time:</th>                 <td>11:20:04</td>     <th>  Log-Likelihood:    </th> <td> -1220.1</td>\n",
       "</tr>\n",
       "<tr>\n",
       "  <th>No. Observations:</th>      <td>   142</td>      <th>  AIC:               </th> <td>   2444.</td>\n",
       "</tr>\n",
       "<tr>\n",
       "  <th>Df Residuals:</th>          <td>   140</td>      <th>  BIC:               </th> <td>   2450.</td>\n",
       "</tr>\n",
       "<tr>\n",
       "  <th>Df Model:</th>              <td>     1</td>      <th>                     </th>     <td> </td>   \n",
       "</tr>\n",
       "<tr>\n",
       "  <th>Covariance Type:</th>      <td>nonrobust</td>    <th>                     </th>     <td> </td>   \n",
       "</tr>\n",
       "</table>\n",
       "<table class=\"simpletable\">\n",
       "<tr>\n",
       "    <td></td>       <th>coef</th>     <th>std err</th>      <th>t</th>      <th>P>|t|</th>  <th>[0.025</th>    <th>0.975]</th>  \n",
       "</tr>\n",
       "<tr>\n",
       "  <th>const</th> <td> 4480.1097</td> <td>  485.663</td> <td>    9.225</td> <td> 0.000</td> <td> 3519.928</td> <td> 5440.292</td>\n",
       "</tr>\n",
       "<tr>\n",
       "  <th>x1</th>    <td> 4480.1097</td> <td>  485.663</td> <td>    9.225</td> <td> 0.000</td> <td> 3519.928</td> <td> 5440.292</td>\n",
       "</tr>\n",
       "<tr>\n",
       "  <th>x2</th>    <td> 4480.1097</td> <td>  485.663</td> <td>    9.225</td> <td> 0.000</td> <td> 3519.928</td> <td> 5440.292</td>\n",
       "</tr>\n",
       "<tr>\n",
       "  <th>x3</th>    <td> 4480.1097</td> <td>  485.663</td> <td>    9.225</td> <td> 0.000</td> <td> 3519.928</td> <td> 5440.292</td>\n",
       "</tr>\n",
       "<tr>\n",
       "  <th>x4</th>    <td>  214.7422</td> <td>   25.749</td> <td>    8.340</td> <td> 0.000</td> <td>  163.834</td> <td>  265.650</td>\n",
       "</tr>\n",
       "</table>\n",
       "<table class=\"simpletable\">\n",
       "<tr>\n",
       "  <th>Omnibus:</th>       <td>14.496</td> <th>  Durbin-Watson:     </th> <td>   0.221</td>\n",
       "</tr>\n",
       "<tr>\n",
       "  <th>Prob(Omnibus):</th> <td> 0.001</td> <th>  Jarque-Bera (JB):  </th> <td>   6.321</td>\n",
       "</tr>\n",
       "<tr>\n",
       "  <th>Skew:</th>          <td>-0.278</td> <th>  Prob(JB):          </th> <td>  0.0424</td>\n",
       "</tr>\n",
       "<tr>\n",
       "  <th>Kurtosis:</th>      <td> 2.128</td> <th>  Cond. No.          </th> <td>4.08e+34</td>\n",
       "</tr>\n",
       "</table><br/><br/>Notes:<br/>[1] Standard Errors assume that the covariance matrix of the errors is correctly specified.<br/>[2] The smallest eigenvalue is 4.86e-64. This might indicate that there are<br/>strong multicollinearity problems or that the design matrix is singular."
      ],
      "text/plain": [
       "<class 'statsmodels.iolib.summary.Summary'>\n",
       "\"\"\"\n",
       "                            OLS Regression Results                            \n",
       "==============================================================================\n",
       "Dep. Variable:                  Close   R-squared:                       0.332\n",
       "Model:                            OLS   Adj. R-squared:                  0.327\n",
       "Method:                 Least Squares   F-statistic:                     69.55\n",
       "Date:                Thu, 19 Aug 2021   Prob (F-statistic):           6.32e-14\n",
       "Time:                        11:20:04   Log-Likelihood:                -1220.1\n",
       "No. Observations:                 142   AIC:                             2444.\n",
       "Df Residuals:                     140   BIC:                             2450.\n",
       "Df Model:                           1                                         \n",
       "Covariance Type:            nonrobust                                         \n",
       "==============================================================================\n",
       "                 coef    std err          t      P>|t|      [0.025      0.975]\n",
       "------------------------------------------------------------------------------\n",
       "const       4480.1097    485.663      9.225      0.000    3519.928    5440.292\n",
       "x1          4480.1097    485.663      9.225      0.000    3519.928    5440.292\n",
       "x2          4480.1097    485.663      9.225      0.000    3519.928    5440.292\n",
       "x3          4480.1097    485.663      9.225      0.000    3519.928    5440.292\n",
       "x4           214.7422     25.749      8.340      0.000     163.834     265.650\n",
       "==============================================================================\n",
       "Omnibus:                       14.496   Durbin-Watson:                   0.221\n",
       "Prob(Omnibus):                  0.001   Jarque-Bera (JB):                6.321\n",
       "Skew:                          -0.278   Prob(JB):                       0.0424\n",
       "Kurtosis:                       2.128   Cond. No.                     4.08e+34\n",
       "==============================================================================\n",
       "\n",
       "Notes:\n",
       "[1] Standard Errors assume that the covariance matrix of the errors is correctly specified.\n",
       "[2] The smallest eigenvalue is 4.86e-64. This might indicate that there are\n",
       "strong multicollinearity problems or that the design matrix is singular.\n",
       "\"\"\""
      ]
     },
     "execution_count": 29,
     "metadata": {},
     "output_type": "execute_result"
    }
   ],
   "source": [
    "X_Optimal = X[:, [0,1,2,4,5]]\n",
    "regressor_OLS = sm.OLS(endog = Y, exog = X_Optimal).fit()\n",
    "regressor_OLS.summary()\n"
   ]
  },
  {
   "cell_type": "code",
   "execution_count": 30,
   "metadata": {},
   "outputs": [
    {
     "data": {
      "text/html": [
       "<table class=\"simpletable\">\n",
       "<caption>OLS Regression Results</caption>\n",
       "<tr>\n",
       "  <th>Dep. Variable:</th>          <td>Close</td>      <th>  R-squared:         </th> <td>   0.332</td>\n",
       "</tr>\n",
       "<tr>\n",
       "  <th>Model:</th>                   <td>OLS</td>       <th>  Adj. R-squared:    </th> <td>   0.327</td>\n",
       "</tr>\n",
       "<tr>\n",
       "  <th>Method:</th>             <td>Least Squares</td>  <th>  F-statistic:       </th> <td>   69.55</td>\n",
       "</tr>\n",
       "<tr>\n",
       "  <th>Date:</th>             <td>Thu, 19 Aug 2021</td> <th>  Prob (F-statistic):</th> <td>6.32e-14</td>\n",
       "</tr>\n",
       "<tr>\n",
       "  <th>Time:</th>                 <td>11:20:28</td>     <th>  Log-Likelihood:    </th> <td> -1220.1</td>\n",
       "</tr>\n",
       "<tr>\n",
       "  <th>No. Observations:</th>      <td>   142</td>      <th>  AIC:               </th> <td>   2444.</td>\n",
       "</tr>\n",
       "<tr>\n",
       "  <th>Df Residuals:</th>          <td>   140</td>      <th>  BIC:               </th> <td>   2450.</td>\n",
       "</tr>\n",
       "<tr>\n",
       "  <th>Df Model:</th>              <td>     1</td>      <th>                     </th>     <td> </td>   \n",
       "</tr>\n",
       "<tr>\n",
       "  <th>Covariance Type:</th>      <td>nonrobust</td>    <th>                     </th>     <td> </td>   \n",
       "</tr>\n",
       "</table>\n",
       "<table class=\"simpletable\">\n",
       "<tr>\n",
       "    <td></td>       <th>coef</th>     <th>std err</th>      <th>t</th>      <th>P>|t|</th>  <th>[0.025</th>    <th>0.975]</th>  \n",
       "</tr>\n",
       "<tr>\n",
       "  <th>const</th> <td> 5973.4796</td> <td>  647.551</td> <td>    9.225</td> <td> 0.000</td> <td> 4693.237</td> <td> 7253.722</td>\n",
       "</tr>\n",
       "<tr>\n",
       "  <th>x1</th>    <td> 5973.4796</td> <td>  647.551</td> <td>    9.225</td> <td> 0.000</td> <td> 4693.237</td> <td> 7253.722</td>\n",
       "</tr>\n",
       "<tr>\n",
       "  <th>x2</th>    <td> 5973.4796</td> <td>  647.551</td> <td>    9.225</td> <td> 0.000</td> <td> 4693.237</td> <td> 7253.722</td>\n",
       "</tr>\n",
       "<tr>\n",
       "  <th>x3</th>    <td>  214.7422</td> <td>   25.749</td> <td>    8.340</td> <td> 0.000</td> <td>  163.834</td> <td>  265.650</td>\n",
       "</tr>\n",
       "</table>\n",
       "<table class=\"simpletable\">\n",
       "<tr>\n",
       "  <th>Omnibus:</th>       <td>14.496</td> <th>  Durbin-Watson:     </th> <td>   0.221</td>\n",
       "</tr>\n",
       "<tr>\n",
       "  <th>Prob(Omnibus):</th> <td> 0.001</td> <th>  Jarque-Bera (JB):  </th> <td>   6.321</td>\n",
       "</tr>\n",
       "<tr>\n",
       "  <th>Skew:</th>          <td>-0.278</td> <th>  Prob(JB):          </th> <td>  0.0424</td>\n",
       "</tr>\n",
       "<tr>\n",
       "  <th>Kurtosis:</th>      <td> 2.128</td> <th>  Cond. No.          </th> <td>1.35e+19</td>\n",
       "</tr>\n",
       "</table><br/><br/>Notes:<br/>[1] Standard Errors assume that the covariance matrix of the errors is correctly specified.<br/>[2] The smallest eigenvalue is 4.45e-33. This might indicate that there are<br/>strong multicollinearity problems or that the design matrix is singular."
      ],
      "text/plain": [
       "<class 'statsmodels.iolib.summary.Summary'>\n",
       "\"\"\"\n",
       "                            OLS Regression Results                            \n",
       "==============================================================================\n",
       "Dep. Variable:                  Close   R-squared:                       0.332\n",
       "Model:                            OLS   Adj. R-squared:                  0.327\n",
       "Method:                 Least Squares   F-statistic:                     69.55\n",
       "Date:                Thu, 19 Aug 2021   Prob (F-statistic):           6.32e-14\n",
       "Time:                        11:20:28   Log-Likelihood:                -1220.1\n",
       "No. Observations:                 142   AIC:                             2444.\n",
       "Df Residuals:                     140   BIC:                             2450.\n",
       "Df Model:                           1                                         \n",
       "Covariance Type:            nonrobust                                         \n",
       "==============================================================================\n",
       "                 coef    std err          t      P>|t|      [0.025      0.975]\n",
       "------------------------------------------------------------------------------\n",
       "const       5973.4796    647.551      9.225      0.000    4693.237    7253.722\n",
       "x1          5973.4796    647.551      9.225      0.000    4693.237    7253.722\n",
       "x2          5973.4796    647.551      9.225      0.000    4693.237    7253.722\n",
       "x3           214.7422     25.749      8.340      0.000     163.834     265.650\n",
       "==============================================================================\n",
       "Omnibus:                       14.496   Durbin-Watson:                   0.221\n",
       "Prob(Omnibus):                  0.001   Jarque-Bera (JB):                6.321\n",
       "Skew:                          -0.278   Prob(JB):                       0.0424\n",
       "Kurtosis:                       2.128   Cond. No.                     1.35e+19\n",
       "==============================================================================\n",
       "\n",
       "Notes:\n",
       "[1] Standard Errors assume that the covariance matrix of the errors is correctly specified.\n",
       "[2] The smallest eigenvalue is 4.45e-33. This might indicate that there are\n",
       "strong multicollinearity problems or that the design matrix is singular.\n",
       "\"\"\""
      ]
     },
     "execution_count": 30,
     "metadata": {},
     "output_type": "execute_result"
    }
   ],
   "source": [
    "X_Optimal = X[:, [0,1,4,5]]\n",
    "regressor_OLS = sm.OLS(endog = Y, exog = X_Optimal).fit()\n",
    "regressor_OLS.summary()"
   ]
  },
  {
   "cell_type": "code",
   "execution_count": 31,
   "metadata": {},
   "outputs": [
    {
     "data": {
      "text/html": [
       "<table class=\"simpletable\">\n",
       "<caption>OLS Regression Results</caption>\n",
       "<tr>\n",
       "  <th>Dep. Variable:</th>          <td>Close</td>      <th>  R-squared:         </th> <td>  -0.000</td>\n",
       "</tr>\n",
       "<tr>\n",
       "  <th>Model:</th>                   <td>OLS</td>       <th>  Adj. R-squared:    </th> <td>  -0.000</td>\n",
       "</tr>\n",
       "<tr>\n",
       "  <th>Method:</th>             <td>Least Squares</td>  <th>  F-statistic:       </th> <td>     nan</td>\n",
       "</tr>\n",
       "<tr>\n",
       "  <th>Date:</th>             <td>Thu, 19 Aug 2021</td> <th>  Prob (F-statistic):</th>  <td>   nan</td> \n",
       "</tr>\n",
       "<tr>\n",
       "  <th>Time:</th>                 <td>11:20:47</td>     <th>  Log-Likelihood:    </th> <td> -1248.7</td>\n",
       "</tr>\n",
       "<tr>\n",
       "  <th>No. Observations:</th>      <td>   142</td>      <th>  AIC:               </th> <td>   2499.</td>\n",
       "</tr>\n",
       "<tr>\n",
       "  <th>Df Residuals:</th>          <td>   141</td>      <th>  BIC:               </th> <td>   2502.</td>\n",
       "</tr>\n",
       "<tr>\n",
       "  <th>Df Model:</th>              <td>     0</td>      <th>                     </th>     <td> </td>   \n",
       "</tr>\n",
       "<tr>\n",
       "  <th>Covariance Type:</th>      <td>nonrobust</td>    <th>                     </th>     <td> </td>   \n",
       "</tr>\n",
       "</table>\n",
       "<table class=\"simpletable\">\n",
       "<tr>\n",
       "    <td></td>       <th>coef</th>     <th>std err</th>      <th>t</th>      <th>P>|t|</th>  <th>[0.025</th>    <th>0.975]</th>  \n",
       "</tr>\n",
       "<tr>\n",
       "  <th>const</th> <td> 1.137e+04</td> <td>   44.783</td> <td>  253.783</td> <td> 0.000</td> <td> 1.13e+04</td> <td> 1.15e+04</td>\n",
       "</tr>\n",
       "<tr>\n",
       "  <th>x1</th>    <td> 1.137e+04</td> <td>   44.783</td> <td>  253.783</td> <td> 0.000</td> <td> 1.13e+04</td> <td> 1.15e+04</td>\n",
       "</tr>\n",
       "<tr>\n",
       "  <th>x2</th>    <td> 1.137e+04</td> <td>   44.783</td> <td>  253.783</td> <td> 0.000</td> <td> 1.13e+04</td> <td> 1.15e+04</td>\n",
       "</tr>\n",
       "</table>\n",
       "<table class=\"simpletable\">\n",
       "<tr>\n",
       "  <th>Omnibus:</th>       <td>12.075</td> <th>  Durbin-Watson:     </th> <td>   0.119</td>\n",
       "</tr>\n",
       "<tr>\n",
       "  <th>Prob(Omnibus):</th> <td> 0.002</td> <th>  Jarque-Bera (JB):  </th> <td>   7.832</td>\n",
       "</tr>\n",
       "<tr>\n",
       "  <th>Skew:</th>          <td>-0.432</td> <th>  Prob(JB):          </th> <td>  0.0199</td>\n",
       "</tr>\n",
       "<tr>\n",
       "  <th>Kurtosis:</th>      <td> 2.240</td> <th>  Cond. No.          </th> <td>3.06e+32</td>\n",
       "</tr>\n",
       "</table><br/><br/>Notes:<br/>[1] Standard Errors assume that the covariance matrix of the errors is correctly specified.<br/>[2] The smallest eigenvalue is 4.55e-63. This might indicate that there are<br/>strong multicollinearity problems or that the design matrix is singular."
      ],
      "text/plain": [
       "<class 'statsmodels.iolib.summary.Summary'>\n",
       "\"\"\"\n",
       "                            OLS Regression Results                            \n",
       "==============================================================================\n",
       "Dep. Variable:                  Close   R-squared:                      -0.000\n",
       "Model:                            OLS   Adj. R-squared:                 -0.000\n",
       "Method:                 Least Squares   F-statistic:                       nan\n",
       "Date:                Thu, 19 Aug 2021   Prob (F-statistic):                nan\n",
       "Time:                        11:20:47   Log-Likelihood:                -1248.7\n",
       "No. Observations:                 142   AIC:                             2499.\n",
       "Df Residuals:                     141   BIC:                             2502.\n",
       "Df Model:                           0                                         \n",
       "Covariance Type:            nonrobust                                         \n",
       "==============================================================================\n",
       "                 coef    std err          t      P>|t|      [0.025      0.975]\n",
       "------------------------------------------------------------------------------\n",
       "const       1.137e+04     44.783    253.783      0.000    1.13e+04    1.15e+04\n",
       "x1          1.137e+04     44.783    253.783      0.000    1.13e+04    1.15e+04\n",
       "x2          1.137e+04     44.783    253.783      0.000    1.13e+04    1.15e+04\n",
       "==============================================================================\n",
       "Omnibus:                       12.075   Durbin-Watson:                   0.119\n",
       "Prob(Omnibus):                  0.002   Jarque-Bera (JB):                7.832\n",
       "Skew:                          -0.432   Prob(JB):                       0.0199\n",
       "Kurtosis:                       2.240   Cond. No.                     3.06e+32\n",
       "==============================================================================\n",
       "\n",
       "Notes:\n",
       "[1] Standard Errors assume that the covariance matrix of the errors is correctly specified.\n",
       "[2] The smallest eigenvalue is 4.55e-63. This might indicate that there are\n",
       "strong multicollinearity problems or that the design matrix is singular.\n",
       "\"\"\""
      ]
     },
     "execution_count": 31,
     "metadata": {},
     "output_type": "execute_result"
    }
   ],
   "source": [
    "X_Optimal = X[:, [0,1,4]]\n",
    "regressor_OLS = sm.OLS(endog = Y, exog = X_Optimal).fit()\n",
    "regressor_OLS.summary()\n"
   ]
  },
  {
   "cell_type": "code",
   "execution_count": 38,
   "metadata": {},
   "outputs": [
    {
     "data": {
      "text/plain": [
       "542.7815236350907"
      ]
     },
     "execution_count": 38,
     "metadata": {},
     "output_type": "execute_result"
    }
   ],
   "source": [
    "rms=np.sqrt(np.mean(np.power((np.array(y_test)-np.array(y_pred)),2)))\n",
    "rms"
   ]
  },
  {
   "cell_type": "code",
   "execution_count": 33,
   "metadata": {},
   "outputs": [],
   "source": [
    "# Fitting the Multiple Linear Regression in the Optimal Training set\n",
    "\n",
    "X_Optimal_Train, X_Optimal_Test, = train_test_split(X_Optimal,test_size = 0.2, random_state = 0)\n",
    "regressor.fit(X_Optimal_Train, y_train)\n",
    "\n",
    "# Predicting the Optimal Test set results\n",
    "\n",
    "Y_Optimal_Pred = regressor.predict(X_Optimal_Test)"
   ]
  },
  {
   "cell_type": "code",
   "execution_count": 34,
   "metadata": {},
   "outputs": [
    {
     "data": {
      "text/plain": [
       "array([34106.45780904, 34106.45780904, 34106.45780904, 34106.45780904,\n",
       "       34106.45780904, 34106.45780904, 34106.45780904, 34106.45780904,\n",
       "       34106.45780904, 34106.45780904, 34106.45780904, 34106.45780904,\n",
       "       34106.45780904, 34106.45780904, 34106.45780904, 34106.45780904,\n",
       "       34106.45780904, 34106.45780904, 34106.45780904, 34106.45780904,\n",
       "       34106.45780904, 34106.45780904, 34106.45780904, 34106.45780904,\n",
       "       34106.45780904, 34106.45780904, 34106.45780904, 34106.45780904,\n",
       "       34106.45780904])"
      ]
     },
     "execution_count": 34,
     "metadata": {},
     "output_type": "execute_result"
    }
   ],
   "source": [
    "Y_Optimal_Pred"
   ]
  },
  {
   "cell_type": "code",
   "execution_count": 36,
   "metadata": {},
   "outputs": [
    {
     "data": {
      "text/html": [
       "<div>\n",
       "<style scoped>\n",
       "    .dataframe tbody tr th:only-of-type {\n",
       "        vertical-align: middle;\n",
       "    }\n",
       "\n",
       "    .dataframe tbody tr th {\n",
       "        vertical-align: top;\n",
       "    }\n",
       "\n",
       "    .dataframe thead th {\n",
       "        text-align: right;\n",
       "    }\n",
       "</style>\n",
       "<table border=\"1\" class=\"dataframe\">\n",
       "  <thead>\n",
       "    <tr style=\"text-align: right;\">\n",
       "      <th></th>\n",
       "      <th>Actual value</th>\n",
       "      <th>Predicited value</th>\n",
       "      <th>difference</th>\n",
       "    </tr>\n",
       "  </thead>\n",
       "  <tbody>\n",
       "    <tr>\n",
       "      <th>53</th>\n",
       "      <td>33603.449219</td>\n",
       "      <td>34106.457809</td>\n",
       "      <td>-503.008590</td>\n",
       "    </tr>\n",
       "    <tr>\n",
       "      <th>118</th>\n",
       "      <td>35359.449219</td>\n",
       "      <td>34106.457809</td>\n",
       "      <td>1252.991410</td>\n",
       "    </tr>\n",
       "    <tr>\n",
       "      <th>35</th>\n",
       "      <td>35116.949219</td>\n",
       "      <td>34106.457809</td>\n",
       "      <td>1010.491410</td>\n",
       "    </tr>\n",
       "    <tr>\n",
       "      <th>109</th>\n",
       "      <td>35247.750000</td>\n",
       "      <td>34106.457809</td>\n",
       "      <td>1141.292191</td>\n",
       "    </tr>\n",
       "    <tr>\n",
       "      <th>85</th>\n",
       "      <td>32872.199219</td>\n",
       "      <td>34106.457809</td>\n",
       "      <td>-1234.258590</td>\n",
       "    </tr>\n",
       "    <tr>\n",
       "      <th>90</th>\n",
       "      <td>33685.199219</td>\n",
       "      <td>34106.457809</td>\n",
       "      <td>-421.258590</td>\n",
       "    </tr>\n",
       "    <tr>\n",
       "      <th>76</th>\n",
       "      <td>33722.800781</td>\n",
       "      <td>34106.457809</td>\n",
       "      <td>-383.657028</td>\n",
       "    </tr>\n",
       "    <tr>\n",
       "      <th>83</th>\n",
       "      <td>32904.500000</td>\n",
       "      <td>34106.457809</td>\n",
       "      <td>-1201.957809</td>\n",
       "    </tr>\n",
       "    <tr>\n",
       "      <th>26</th>\n",
       "      <td>35783.101562</td>\n",
       "      <td>34106.457809</td>\n",
       "      <td>1676.643753</td>\n",
       "    </tr>\n",
       "    <tr>\n",
       "      <th>20</th>\n",
       "      <td>34267.898438</td>\n",
       "      <td>34106.457809</td>\n",
       "      <td>161.440628</td>\n",
       "    </tr>\n",
       "    <tr>\n",
       "      <th>73</th>\n",
       "      <td>31722.300781</td>\n",
       "      <td>34106.457809</td>\n",
       "      <td>-2384.157028</td>\n",
       "    </tr>\n",
       "    <tr>\n",
       "      <th>97</th>\n",
       "      <td>35141.449219</td>\n",
       "      <td>34106.457809</td>\n",
       "      <td>1034.991410</td>\n",
       "    </tr>\n",
       "    <tr>\n",
       "      <th>47</th>\n",
       "      <td>35496.648438</td>\n",
       "      <td>34106.457809</td>\n",
       "      <td>1390.190628</td>\n",
       "    </tr>\n",
       "    <tr>\n",
       "      <th>96</th>\n",
       "      <td>35095.050781</td>\n",
       "      <td>34106.457809</td>\n",
       "      <td>988.592972</td>\n",
       "    </tr>\n",
       "    <tr>\n",
       "      <th>17</th>\n",
       "      <td>30358.300781</td>\n",
       "      <td>34106.457809</td>\n",
       "      <td>-3748.157028</td>\n",
       "    </tr>\n",
       "    <tr>\n",
       "      <th>8</th>\n",
       "      <td>32519.750000</td>\n",
       "      <td>34106.457809</td>\n",
       "      <td>-1586.707809</td>\n",
       "    </tr>\n",
       "    <tr>\n",
       "      <th>89</th>\n",
       "      <td>33922.398438</td>\n",
       "      <td>34106.457809</td>\n",
       "      <td>-184.059372</td>\n",
       "    </tr>\n",
       "    <tr>\n",
       "      <th>69</th>\n",
       "      <td>31977.449219</td>\n",
       "      <td>34106.457809</td>\n",
       "      <td>-2129.008590</td>\n",
       "    </tr>\n",
       "    <tr>\n",
       "      <th>31</th>\n",
       "      <td>36910.949219</td>\n",
       "      <td>34106.457809</td>\n",
       "      <td>2804.491410</td>\n",
       "    </tr>\n",
       "    <tr>\n",
       "      <th>51</th>\n",
       "      <td>33856.800781</td>\n",
       "      <td>34106.457809</td>\n",
       "      <td>-249.657028</td>\n",
       "    </tr>\n",
       "  </tbody>\n",
       "</table>\n",
       "</div>"
      ],
      "text/plain": [
       "     Actual value  Predicited value   difference\n",
       "53   33603.449219      34106.457809  -503.008590\n",
       "118  35359.449219      34106.457809  1252.991410\n",
       "35   35116.949219      34106.457809  1010.491410\n",
       "109  35247.750000      34106.457809  1141.292191\n",
       "85   32872.199219      34106.457809 -1234.258590\n",
       "90   33685.199219      34106.457809  -421.258590\n",
       "76   33722.800781      34106.457809  -383.657028\n",
       "83   32904.500000      34106.457809 -1201.957809\n",
       "26   35783.101562      34106.457809  1676.643753\n",
       "20   34267.898438      34106.457809   161.440628\n",
       "73   31722.300781      34106.457809 -2384.157028\n",
       "97   35141.449219      34106.457809  1034.991410\n",
       "47   35496.648438      34106.457809  1390.190628\n",
       "96   35095.050781      34106.457809   988.592972\n",
       "17   30358.300781      34106.457809 -3748.157028\n",
       "8    32519.750000      34106.457809 -1586.707809\n",
       "89   33922.398438      34106.457809  -184.059372\n",
       "69   31977.449219      34106.457809 -2129.008590\n",
       "31   36910.949219      34106.457809  2804.491410\n",
       "51   33856.800781      34106.457809  -249.657028"
      ]
     },
     "execution_count": 36,
     "metadata": {},
     "output_type": "execute_result"
    }
   ],
   "source": [
    "y_pred_df=pd.DataFrame({'Actual value':y_test,'Predicited value':Y_Optimal_Pred,'difference':y_test-Y_Optimal_Pred})\n",
    "y_pred_df[0:20]"
   ]
  },
  {
   "cell_type": "code",
   "execution_count": 37,
   "metadata": {},
   "outputs": [
    {
     "ename": "NameError",
     "evalue": "name 'regressorr' is not defined",
     "output_type": "error",
     "traceback": [
      "\u001b[1;31m---------------------------------------------------------------------------\u001b[0m",
      "\u001b[1;31mNameError\u001b[0m                                 Traceback (most recent call last)",
      "\u001b[1;32m<ipython-input-37-b5816b9d7ed1>\u001b[0m in \u001b[0;36m<module>\u001b[1;34m\u001b[0m\n\u001b[0;32m      1\u001b[0m \u001b[1;31m# Predicting the Test set results\u001b[0m\u001b[1;33m\u001b[0m\u001b[1;33m\u001b[0m\u001b[1;33m\u001b[0m\u001b[0m\n\u001b[1;32m----> 2\u001b[1;33m \u001b[0my_pred\u001b[0m \u001b[1;33m=\u001b[0m \u001b[0mregressorr\u001b[0m\u001b[1;33m.\u001b[0m\u001b[0mpredict\u001b[0m\u001b[1;33m(\u001b[0m\u001b[0mX_Optimal_Test\u001b[0m\u001b[1;33m)\u001b[0m\u001b[1;33m\u001b[0m\u001b[1;33m\u001b[0m\u001b[0m\n\u001b[0m\u001b[0;32m      3\u001b[0m \u001b[0mplt\u001b[0m\u001b[1;33m.\u001b[0m\u001b[0mplot\u001b[0m\u001b[1;33m(\u001b[0m\u001b[0mY_Optimal_Pred\u001b[0m\u001b[1;33m,\u001b[0m \u001b[0my_pred\u001b[0m\u001b[1;33m)\u001b[0m\u001b[1;33m\u001b[0m\u001b[1;33m\u001b[0m\u001b[0m\n\u001b[0;32m      4\u001b[0m \u001b[0mplt\u001b[0m\u001b[1;33m.\u001b[0m\u001b[0mplot\u001b[0m\u001b[1;33m(\u001b[0m\u001b[0my_test\u001b[0m\u001b[1;33m,\u001b[0m \u001b[0my_pred1\u001b[0m\u001b[1;33m)\u001b[0m\u001b[1;33m\u001b[0m\u001b[1;33m\u001b[0m\u001b[0m\n",
      "\u001b[1;31mNameError\u001b[0m: name 'regressorr' is not defined"
     ]
    }
   ],
   "source": [
    "# Predicting the Test set results\n",
    "y_pred = regressorr.predict(X_Optimal_Test)\n",
    "plt.plot(Y_Optimal_Pred, y_pred)\n",
    "plt.plot(y_test, y_pred1)\n"
   ]
  },
  {
   "cell_type": "code",
   "execution_count": null,
   "metadata": {},
   "outputs": [],
   "source": [
    "\n",
    "y_true = y_test.tolist()\n",
    "y_pred2 = y_pred1.tolist()\n",
    "\n",
    "r2_score(y_true, y_pred2)\n",
    "\n",
    "mean_absolute_error(y_true, y_pred2)\n",
    "\n",
    "mean_squared_error(y_true, y_pred2)\n",
    "\n",
    "mean_squared_log_error(y_true, y_pred2) \n",
    "\n",
    "median_absolute_error(y_true, y_pred2)"
   ]
  }
 ],
 "metadata": {
  "kernelspec": {
   "display_name": "Python 3",
   "language": "python",
   "name": "python3"
  },
  "language_info": {
   "codemirror_mode": {
    "name": "ipython",
    "version": 3
   },
   "file_extension": ".py",
   "mimetype": "text/x-python",
   "name": "python",
   "nbconvert_exporter": "python",
   "pygments_lexer": "ipython3",
   "version": "3.8.5"
  }
 },
 "nbformat": 4,
 "nbformat_minor": 4
}
